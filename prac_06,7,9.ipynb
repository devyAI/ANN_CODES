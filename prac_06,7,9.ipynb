{
 "cells": [
  {
   "cell_type": "code",
   "execution_count": 4,
   "metadata": {},
   "outputs": [],
   "source": [
    "import numpy as np"
   ]
  },
  {
   "cell_type": "code",
   "execution_count": 12,
   "metadata": {},
   "outputs": [],
   "source": [
    "class XOR:\n",
    "    def __init__(self):\n",
    "        self.w1 = np.random.rand(2, 2)\n",
    "        self.b1 = np.random.rand(2)\n",
    "        self.w2 = np.random.rand(2, 1)\n",
    "        self.b2 = np.random.rand(1)\n",
    "        self.learning_rate = 0.1\n",
    "\n",
    "    def sigmoid(self, x):\n",
    "        return 1 / (1 + np.exp(-x))\n",
    "\n",
    "    def sigmoid_derivative(self, s):\n",
    "        return s * (1 - s)\n",
    "\n",
    "    def forward_pass(self, X):\n",
    "        self.z1 = np.dot(X, self.w1) + self.b1  # (4,2)\n",
    "        self.a1 = self.sigmoid(self.z1)         # (4,2)\n",
    "        self.z2 = np.dot(self.a1, self.w2) + self.b2  # (4,1)\n",
    "        self.a2 = self.sigmoid(self.z2)         # (4,1)\n",
    "        return self.a2\n",
    "\n",
    "    def backward(self, X, y, output):\n",
    "        error = y - output                      # (4,1)\n",
    "        d_output = error * self.sigmoid_derivative(output)  # (4,1)\n",
    "\n",
    "        error_hidden = d_output.dot(self.w2.T)             # (4,2)\n",
    "        d_hidden = error_hidden * self.sigmoid_derivative(self.a1)  # (4,2)\n",
    "\n",
    "        # Update weights and biases\n",
    "        self.w2 += self.a1.T.dot(d_output) * self.learning_rate  # (2,1)\n",
    "        self.b2 += np.sum(d_output, axis=0) * self.learning_rate\n",
    "\n",
    "        self.w1 += X.T.dot(d_hidden) * self.learning_rate        # (2,2)\n",
    "        self.b1 += np.sum(d_hidden, axis=0) * self.learning_rate\n",
    "\n",
    "    def train(self, X, y, epochs=10000):\n",
    "        for _ in range(epochs):\n",
    "            output = self.forward_pass(X)\n",
    "            self.backward(X, y, output)\n",
    "    \n",
    "    def predict(self, X):\n",
    "        return (self.forward_pass(X))\n",
    "\n"
   ]
  },
  {
   "cell_type": "code",
   "execution_count": null,
   "metadata": {},
   "outputs": [],
   "source": [
    "X = np.array([[0, 0],\n",
    "              [0, 1],\n",
    "              [1, 0],\n",
    "              [1, 1]])\n",
    "\n",
    "y = np.array([[0], [1], [1], [0]])\n",
    "\n",
    "   "
   ]
  },
  {
   "cell_type": "code",
   "execution_count": 15,
   "metadata": {},
   "outputs": [],
   "source": [
    "model = XOR()\n",
    "model.train(X, y, epochs=10000)"
   ]
  },
  {
   "cell_type": "code",
   "execution_count": 18,
   "metadata": {},
   "outputs": [
    {
     "name": "stdout",
     "output_type": "stream",
     "text": [
      "Predictions:\n",
      "[[0.06364106]\n",
      " [0.94124188]\n",
      " [0.94121937]\n",
      " [0.06352953]]\n"
     ]
    }
   ],
   "source": [
    "predictions = model.predict(X)\n",
    "print(\"Predictions:\")\n",
    "print(predictions)"
   ]
  },
  {
   "cell_type": "code",
   "execution_count": null,
   "metadata": {},
   "outputs": [],
   "source": []
  }
 ],
 "metadata": {
  "kernelspec": {
   "display_name": "pytorch_env",
   "language": "python",
   "name": "python3"
  },
  "language_info": {
   "codemirror_mode": {
    "name": "ipython",
    "version": 3
   },
   "file_extension": ".py",
   "mimetype": "text/x-python",
   "name": "python",
   "nbconvert_exporter": "python",
   "pygments_lexer": "ipython3",
   "version": "3.10.16"
  }
 },
 "nbformat": 4,
 "nbformat_minor": 2
}
